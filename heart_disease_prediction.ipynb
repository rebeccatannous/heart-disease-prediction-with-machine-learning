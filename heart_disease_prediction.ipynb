{
  "nbformat": 4,
  "nbformat_minor": 0,
  "metadata": {
    "colab": {
      "name": "heart disease prediction.ipynb",
      "provenance": [],
      "collapsed_sections": []
    },
    "kernelspec": {
      "name": "python3",
      "display_name": "Python 3"
    },
    "language_info": {
      "name": "python"
    }
  },
  "cells": [
    {
      "cell_type": "markdown",
      "source": [
        "# Heart Disease Prediction"
      ],
      "metadata": {
        "id": "KhZTGZq0fsh3"
      }
    },
    {
      "cell_type": "markdown",
      "source": [
        "Dataset: [Heart Disease UCI](https://www.kaggle.com/ronitf/heart-disease-uci)"
      ],
      "metadata": {
        "id": "3veAhP2h3Jp4"
      }
    },
    {
      "cell_type": "code",
      "source": [
        "# importing dependencies\n",
        "%matplotlib inline\n",
        "import numpy as np\n",
        "import pandas as pd\n",
        "from sklearn.model_selection import train_test_split\n",
        "from sklearn.metrics import accuracy_score, confusion_matrix\n",
        "from sklearn.linear_model import LogisticRegression\n",
        "import itertools\n",
        "import matplotlib.pyplot as plt\n"
      ],
      "metadata": {
        "id": "AjFOPGRyfxQo"
      },
      "execution_count": 47,
      "outputs": []
    },
    {
      "cell_type": "markdown",
      "source": [
        "## Pre-processing data"
      ],
      "metadata": {
        "id": "kcCcDYppmB4b"
      }
    },
    {
      "cell_type": "markdown",
      "source": [
        "Read .csv file into Pandas dataframe"
      ],
      "metadata": {
        "id": "Pe0GOUjamQXF"
      }
    },
    {
      "cell_type": "code",
      "source": [
        "heart_disease_df= pd.read_csv('/content/data.csv')"
      ],
      "metadata": {
        "id": "f0VP_Yvkl26k"
      },
      "execution_count": 2,
      "outputs": []
    },
    {
      "cell_type": "code",
      "source": [
        "heart_disease_df.shape"
      ],
      "metadata": {
        "colab": {
          "base_uri": "https://localhost:8080/"
        },
        "id": "EE3w8GHQm0lw",
        "outputId": "c8103515-9fa2-4e0e-bdc2-d29030c34cc1"
      },
      "execution_count": 5,
      "outputs": [
        {
          "output_type": "execute_result",
          "data": {
            "text/plain": [
              "(303, 14)"
            ]
          },
          "metadata": {},
          "execution_count": 5
        }
      ]
    },
    {
      "cell_type": "code",
      "source": [
        "heart_disease_df"
      ],
      "metadata": {
        "colab": {
          "base_uri": "https://localhost:8080/",
          "height": 424
        },
        "id": "UoAdjh-FmhyB",
        "outputId": "4dd0a98f-1b34-4cd3-acab-8a44fefe0629"
      },
      "execution_count": 3,
      "outputs": [
        {
          "output_type": "execute_result",
          "data": {
            "text/html": [
              "\n",
              "  <div id=\"df-52f5079b-4ce2-4700-bf54-0db1eca682fa\">\n",
              "    <div class=\"colab-df-container\">\n",
              "      <div>\n",
              "<style scoped>\n",
              "    .dataframe tbody tr th:only-of-type {\n",
              "        vertical-align: middle;\n",
              "    }\n",
              "\n",
              "    .dataframe tbody tr th {\n",
              "        vertical-align: top;\n",
              "    }\n",
              "\n",
              "    .dataframe thead th {\n",
              "        text-align: right;\n",
              "    }\n",
              "</style>\n",
              "<table border=\"1\" class=\"dataframe\">\n",
              "  <thead>\n",
              "    <tr style=\"text-align: right;\">\n",
              "      <th></th>\n",
              "      <th>age</th>\n",
              "      <th>sex</th>\n",
              "      <th>cp</th>\n",
              "      <th>trestbps</th>\n",
              "      <th>chol</th>\n",
              "      <th>fbs</th>\n",
              "      <th>restecg</th>\n",
              "      <th>thalach</th>\n",
              "      <th>exang</th>\n",
              "      <th>oldpeak</th>\n",
              "      <th>slope</th>\n",
              "      <th>ca</th>\n",
              "      <th>thal</th>\n",
              "      <th>target</th>\n",
              "    </tr>\n",
              "  </thead>\n",
              "  <tbody>\n",
              "    <tr>\n",
              "      <th>0</th>\n",
              "      <td>63</td>\n",
              "      <td>1</td>\n",
              "      <td>3</td>\n",
              "      <td>145</td>\n",
              "      <td>233</td>\n",
              "      <td>1</td>\n",
              "      <td>0</td>\n",
              "      <td>150</td>\n",
              "      <td>0</td>\n",
              "      <td>2.3</td>\n",
              "      <td>0</td>\n",
              "      <td>0</td>\n",
              "      <td>1</td>\n",
              "      <td>1</td>\n",
              "    </tr>\n",
              "    <tr>\n",
              "      <th>1</th>\n",
              "      <td>37</td>\n",
              "      <td>1</td>\n",
              "      <td>2</td>\n",
              "      <td>130</td>\n",
              "      <td>250</td>\n",
              "      <td>0</td>\n",
              "      <td>1</td>\n",
              "      <td>187</td>\n",
              "      <td>0</td>\n",
              "      <td>3.5</td>\n",
              "      <td>0</td>\n",
              "      <td>0</td>\n",
              "      <td>2</td>\n",
              "      <td>1</td>\n",
              "    </tr>\n",
              "    <tr>\n",
              "      <th>2</th>\n",
              "      <td>41</td>\n",
              "      <td>0</td>\n",
              "      <td>1</td>\n",
              "      <td>130</td>\n",
              "      <td>204</td>\n",
              "      <td>0</td>\n",
              "      <td>0</td>\n",
              "      <td>172</td>\n",
              "      <td>0</td>\n",
              "      <td>1.4</td>\n",
              "      <td>2</td>\n",
              "      <td>0</td>\n",
              "      <td>2</td>\n",
              "      <td>1</td>\n",
              "    </tr>\n",
              "    <tr>\n",
              "      <th>3</th>\n",
              "      <td>56</td>\n",
              "      <td>1</td>\n",
              "      <td>1</td>\n",
              "      <td>120</td>\n",
              "      <td>236</td>\n",
              "      <td>0</td>\n",
              "      <td>1</td>\n",
              "      <td>178</td>\n",
              "      <td>0</td>\n",
              "      <td>0.8</td>\n",
              "      <td>2</td>\n",
              "      <td>0</td>\n",
              "      <td>2</td>\n",
              "      <td>1</td>\n",
              "    </tr>\n",
              "    <tr>\n",
              "      <th>4</th>\n",
              "      <td>57</td>\n",
              "      <td>0</td>\n",
              "      <td>0</td>\n",
              "      <td>120</td>\n",
              "      <td>354</td>\n",
              "      <td>0</td>\n",
              "      <td>1</td>\n",
              "      <td>163</td>\n",
              "      <td>1</td>\n",
              "      <td>0.6</td>\n",
              "      <td>2</td>\n",
              "      <td>0</td>\n",
              "      <td>2</td>\n",
              "      <td>1</td>\n",
              "    </tr>\n",
              "    <tr>\n",
              "      <th>...</th>\n",
              "      <td>...</td>\n",
              "      <td>...</td>\n",
              "      <td>...</td>\n",
              "      <td>...</td>\n",
              "      <td>...</td>\n",
              "      <td>...</td>\n",
              "      <td>...</td>\n",
              "      <td>...</td>\n",
              "      <td>...</td>\n",
              "      <td>...</td>\n",
              "      <td>...</td>\n",
              "      <td>...</td>\n",
              "      <td>...</td>\n",
              "      <td>...</td>\n",
              "    </tr>\n",
              "    <tr>\n",
              "      <th>298</th>\n",
              "      <td>57</td>\n",
              "      <td>0</td>\n",
              "      <td>0</td>\n",
              "      <td>140</td>\n",
              "      <td>241</td>\n",
              "      <td>0</td>\n",
              "      <td>1</td>\n",
              "      <td>123</td>\n",
              "      <td>1</td>\n",
              "      <td>0.2</td>\n",
              "      <td>1</td>\n",
              "      <td>0</td>\n",
              "      <td>3</td>\n",
              "      <td>0</td>\n",
              "    </tr>\n",
              "    <tr>\n",
              "      <th>299</th>\n",
              "      <td>45</td>\n",
              "      <td>1</td>\n",
              "      <td>3</td>\n",
              "      <td>110</td>\n",
              "      <td>264</td>\n",
              "      <td>0</td>\n",
              "      <td>1</td>\n",
              "      <td>132</td>\n",
              "      <td>0</td>\n",
              "      <td>1.2</td>\n",
              "      <td>1</td>\n",
              "      <td>0</td>\n",
              "      <td>3</td>\n",
              "      <td>0</td>\n",
              "    </tr>\n",
              "    <tr>\n",
              "      <th>300</th>\n",
              "      <td>68</td>\n",
              "      <td>1</td>\n",
              "      <td>0</td>\n",
              "      <td>144</td>\n",
              "      <td>193</td>\n",
              "      <td>1</td>\n",
              "      <td>1</td>\n",
              "      <td>141</td>\n",
              "      <td>0</td>\n",
              "      <td>3.4</td>\n",
              "      <td>1</td>\n",
              "      <td>2</td>\n",
              "      <td>3</td>\n",
              "      <td>0</td>\n",
              "    </tr>\n",
              "    <tr>\n",
              "      <th>301</th>\n",
              "      <td>57</td>\n",
              "      <td>1</td>\n",
              "      <td>0</td>\n",
              "      <td>130</td>\n",
              "      <td>131</td>\n",
              "      <td>0</td>\n",
              "      <td>1</td>\n",
              "      <td>115</td>\n",
              "      <td>1</td>\n",
              "      <td>1.2</td>\n",
              "      <td>1</td>\n",
              "      <td>1</td>\n",
              "      <td>3</td>\n",
              "      <td>0</td>\n",
              "    </tr>\n",
              "    <tr>\n",
              "      <th>302</th>\n",
              "      <td>57</td>\n",
              "      <td>0</td>\n",
              "      <td>1</td>\n",
              "      <td>130</td>\n",
              "      <td>236</td>\n",
              "      <td>0</td>\n",
              "      <td>0</td>\n",
              "      <td>174</td>\n",
              "      <td>0</td>\n",
              "      <td>0.0</td>\n",
              "      <td>1</td>\n",
              "      <td>1</td>\n",
              "      <td>2</td>\n",
              "      <td>0</td>\n",
              "    </tr>\n",
              "  </tbody>\n",
              "</table>\n",
              "<p>303 rows × 14 columns</p>\n",
              "</div>\n",
              "      <button class=\"colab-df-convert\" onclick=\"convertToInteractive('df-52f5079b-4ce2-4700-bf54-0db1eca682fa')\"\n",
              "              title=\"Convert this dataframe to an interactive table.\"\n",
              "              style=\"display:none;\">\n",
              "        \n",
              "  <svg xmlns=\"http://www.w3.org/2000/svg\" height=\"24px\"viewBox=\"0 0 24 24\"\n",
              "       width=\"24px\">\n",
              "    <path d=\"M0 0h24v24H0V0z\" fill=\"none\"/>\n",
              "    <path d=\"M18.56 5.44l.94 2.06.94-2.06 2.06-.94-2.06-.94-.94-2.06-.94 2.06-2.06.94zm-11 1L8.5 8.5l.94-2.06 2.06-.94-2.06-.94L8.5 2.5l-.94 2.06-2.06.94zm10 10l.94 2.06.94-2.06 2.06-.94-2.06-.94-.94-2.06-.94 2.06-2.06.94z\"/><path d=\"M17.41 7.96l-1.37-1.37c-.4-.4-.92-.59-1.43-.59-.52 0-1.04.2-1.43.59L10.3 9.45l-7.72 7.72c-.78.78-.78 2.05 0 2.83L4 21.41c.39.39.9.59 1.41.59.51 0 1.02-.2 1.41-.59l7.78-7.78 2.81-2.81c.8-.78.8-2.07 0-2.86zM5.41 20L4 18.59l7.72-7.72 1.47 1.35L5.41 20z\"/>\n",
              "  </svg>\n",
              "      </button>\n",
              "      \n",
              "  <style>\n",
              "    .colab-df-container {\n",
              "      display:flex;\n",
              "      flex-wrap:wrap;\n",
              "      gap: 12px;\n",
              "    }\n",
              "\n",
              "    .colab-df-convert {\n",
              "      background-color: #E8F0FE;\n",
              "      border: none;\n",
              "      border-radius: 50%;\n",
              "      cursor: pointer;\n",
              "      display: none;\n",
              "      fill: #1967D2;\n",
              "      height: 32px;\n",
              "      padding: 0 0 0 0;\n",
              "      width: 32px;\n",
              "    }\n",
              "\n",
              "    .colab-df-convert:hover {\n",
              "      background-color: #E2EBFA;\n",
              "      box-shadow: 0px 1px 2px rgba(60, 64, 67, 0.3), 0px 1px 3px 1px rgba(60, 64, 67, 0.15);\n",
              "      fill: #174EA6;\n",
              "    }\n",
              "\n",
              "    [theme=dark] .colab-df-convert {\n",
              "      background-color: #3B4455;\n",
              "      fill: #D2E3FC;\n",
              "    }\n",
              "\n",
              "    [theme=dark] .colab-df-convert:hover {\n",
              "      background-color: #434B5C;\n",
              "      box-shadow: 0px 1px 3px 1px rgba(0, 0, 0, 0.15);\n",
              "      filter: drop-shadow(0px 1px 2px rgba(0, 0, 0, 0.3));\n",
              "      fill: #FFFFFF;\n",
              "    }\n",
              "  </style>\n",
              "\n",
              "      <script>\n",
              "        const buttonEl =\n",
              "          document.querySelector('#df-52f5079b-4ce2-4700-bf54-0db1eca682fa button.colab-df-convert');\n",
              "        buttonEl.style.display =\n",
              "          google.colab.kernel.accessAllowed ? 'block' : 'none';\n",
              "\n",
              "        async function convertToInteractive(key) {\n",
              "          const element = document.querySelector('#df-52f5079b-4ce2-4700-bf54-0db1eca682fa');\n",
              "          const dataTable =\n",
              "            await google.colab.kernel.invokeFunction('convertToInteractive',\n",
              "                                                     [key], {});\n",
              "          if (!dataTable) return;\n",
              "\n",
              "          const docLinkHtml = 'Like what you see? Visit the ' +\n",
              "            '<a target=\"_blank\" href=https://colab.research.google.com/notebooks/data_table.ipynb>data table notebook</a>'\n",
              "            + ' to learn more about interactive tables.';\n",
              "          element.innerHTML = '';\n",
              "          dataTable['output_type'] = 'display_data';\n",
              "          await google.colab.output.renderOutput(dataTable, element);\n",
              "          const docLink = document.createElement('div');\n",
              "          docLink.innerHTML = docLinkHtml;\n",
              "          element.appendChild(docLink);\n",
              "        }\n",
              "      </script>\n",
              "    </div>\n",
              "  </div>\n",
              "  "
            ],
            "text/plain": [
              "     age  sex  cp  trestbps  chol  fbs  ...  exang  oldpeak  slope  ca  thal  target\n",
              "0     63    1   3       145   233    1  ...      0      2.3      0   0     1       1\n",
              "1     37    1   2       130   250    0  ...      0      3.5      0   0     2       1\n",
              "2     41    0   1       130   204    0  ...      0      1.4      2   0     2       1\n",
              "3     56    1   1       120   236    0  ...      0      0.8      2   0     2       1\n",
              "4     57    0   0       120   354    0  ...      1      0.6      2   0     2       1\n",
              "..   ...  ...  ..       ...   ...  ...  ...    ...      ...    ...  ..   ...     ...\n",
              "298   57    0   0       140   241    0  ...      1      0.2      1   0     3       0\n",
              "299   45    1   3       110   264    0  ...      0      1.2      1   0     3       0\n",
              "300   68    1   0       144   193    1  ...      0      3.4      1   2     3       0\n",
              "301   57    1   0       130   131    0  ...      1      1.2      1   1     3       0\n",
              "302   57    0   1       130   236    0  ...      0      0.0      1   1     2       0\n",
              "\n",
              "[303 rows x 14 columns]"
            ]
          },
          "metadata": {},
          "execution_count": 3
        }
      ]
    },
    {
      "cell_type": "markdown",
      "source": [
        "Check for missing values"
      ],
      "metadata": {
        "id": "PT-Rx9fznLIa"
      }
    },
    {
      "cell_type": "code",
      "source": [
        "heart_disease_df.isnull().sum()"
      ],
      "metadata": {
        "colab": {
          "base_uri": "https://localhost:8080/"
        },
        "id": "mTi8NjFOmqXQ",
        "outputId": "e1840097-307e-428c-ccc9-910094b4ff41"
      },
      "execution_count": 7,
      "outputs": [
        {
          "output_type": "execute_result",
          "data": {
            "text/plain": [
              "age         0\n",
              "sex         0\n",
              "cp          0\n",
              "trestbps    0\n",
              "chol        0\n",
              "fbs         0\n",
              "restecg     0\n",
              "thalach     0\n",
              "exang       0\n",
              "oldpeak     0\n",
              "slope       0\n",
              "ca          0\n",
              "thal        0\n",
              "target      0\n",
              "dtype: int64"
            ]
          },
          "metadata": {},
          "execution_count": 7
        }
      ]
    },
    {
      "cell_type": "code",
      "source": [
        "heart_disease_df.describe()"
      ],
      "metadata": {
        "colab": {
          "base_uri": "https://localhost:8080/",
          "height": 364
        },
        "id": "iUYHrwPknQlV",
        "outputId": "142620e1-2e04-41fc-95ff-5ac78cbe4172"
      },
      "execution_count": 10,
      "outputs": [
        {
          "output_type": "execute_result",
          "data": {
            "text/html": [
              "\n",
              "  <div id=\"df-fbbff9ac-186c-44d9-a59f-e587ff9b324a\">\n",
              "    <div class=\"colab-df-container\">\n",
              "      <div>\n",
              "<style scoped>\n",
              "    .dataframe tbody tr th:only-of-type {\n",
              "        vertical-align: middle;\n",
              "    }\n",
              "\n",
              "    .dataframe tbody tr th {\n",
              "        vertical-align: top;\n",
              "    }\n",
              "\n",
              "    .dataframe thead th {\n",
              "        text-align: right;\n",
              "    }\n",
              "</style>\n",
              "<table border=\"1\" class=\"dataframe\">\n",
              "  <thead>\n",
              "    <tr style=\"text-align: right;\">\n",
              "      <th></th>\n",
              "      <th>age</th>\n",
              "      <th>sex</th>\n",
              "      <th>cp</th>\n",
              "      <th>trestbps</th>\n",
              "      <th>chol</th>\n",
              "      <th>fbs</th>\n",
              "      <th>restecg</th>\n",
              "      <th>thalach</th>\n",
              "      <th>exang</th>\n",
              "      <th>oldpeak</th>\n",
              "      <th>slope</th>\n",
              "      <th>ca</th>\n",
              "      <th>thal</th>\n",
              "      <th>target</th>\n",
              "    </tr>\n",
              "  </thead>\n",
              "  <tbody>\n",
              "    <tr>\n",
              "      <th>count</th>\n",
              "      <td>303.000000</td>\n",
              "      <td>303.000000</td>\n",
              "      <td>303.000000</td>\n",
              "      <td>303.000000</td>\n",
              "      <td>303.000000</td>\n",
              "      <td>303.000000</td>\n",
              "      <td>303.000000</td>\n",
              "      <td>303.000000</td>\n",
              "      <td>303.000000</td>\n",
              "      <td>303.000000</td>\n",
              "      <td>303.000000</td>\n",
              "      <td>303.000000</td>\n",
              "      <td>303.000000</td>\n",
              "      <td>303.000000</td>\n",
              "    </tr>\n",
              "    <tr>\n",
              "      <th>mean</th>\n",
              "      <td>54.366337</td>\n",
              "      <td>0.683168</td>\n",
              "      <td>0.966997</td>\n",
              "      <td>131.623762</td>\n",
              "      <td>246.264026</td>\n",
              "      <td>0.148515</td>\n",
              "      <td>0.528053</td>\n",
              "      <td>149.646865</td>\n",
              "      <td>0.326733</td>\n",
              "      <td>1.039604</td>\n",
              "      <td>1.399340</td>\n",
              "      <td>0.729373</td>\n",
              "      <td>2.313531</td>\n",
              "      <td>0.544554</td>\n",
              "    </tr>\n",
              "    <tr>\n",
              "      <th>std</th>\n",
              "      <td>9.082101</td>\n",
              "      <td>0.466011</td>\n",
              "      <td>1.032052</td>\n",
              "      <td>17.538143</td>\n",
              "      <td>51.830751</td>\n",
              "      <td>0.356198</td>\n",
              "      <td>0.525860</td>\n",
              "      <td>22.905161</td>\n",
              "      <td>0.469794</td>\n",
              "      <td>1.161075</td>\n",
              "      <td>0.616226</td>\n",
              "      <td>1.022606</td>\n",
              "      <td>0.612277</td>\n",
              "      <td>0.498835</td>\n",
              "    </tr>\n",
              "    <tr>\n",
              "      <th>min</th>\n",
              "      <td>29.000000</td>\n",
              "      <td>0.000000</td>\n",
              "      <td>0.000000</td>\n",
              "      <td>94.000000</td>\n",
              "      <td>126.000000</td>\n",
              "      <td>0.000000</td>\n",
              "      <td>0.000000</td>\n",
              "      <td>71.000000</td>\n",
              "      <td>0.000000</td>\n",
              "      <td>0.000000</td>\n",
              "      <td>0.000000</td>\n",
              "      <td>0.000000</td>\n",
              "      <td>0.000000</td>\n",
              "      <td>0.000000</td>\n",
              "    </tr>\n",
              "    <tr>\n",
              "      <th>25%</th>\n",
              "      <td>47.500000</td>\n",
              "      <td>0.000000</td>\n",
              "      <td>0.000000</td>\n",
              "      <td>120.000000</td>\n",
              "      <td>211.000000</td>\n",
              "      <td>0.000000</td>\n",
              "      <td>0.000000</td>\n",
              "      <td>133.500000</td>\n",
              "      <td>0.000000</td>\n",
              "      <td>0.000000</td>\n",
              "      <td>1.000000</td>\n",
              "      <td>0.000000</td>\n",
              "      <td>2.000000</td>\n",
              "      <td>0.000000</td>\n",
              "    </tr>\n",
              "    <tr>\n",
              "      <th>50%</th>\n",
              "      <td>55.000000</td>\n",
              "      <td>1.000000</td>\n",
              "      <td>1.000000</td>\n",
              "      <td>130.000000</td>\n",
              "      <td>240.000000</td>\n",
              "      <td>0.000000</td>\n",
              "      <td>1.000000</td>\n",
              "      <td>153.000000</td>\n",
              "      <td>0.000000</td>\n",
              "      <td>0.800000</td>\n",
              "      <td>1.000000</td>\n",
              "      <td>0.000000</td>\n",
              "      <td>2.000000</td>\n",
              "      <td>1.000000</td>\n",
              "    </tr>\n",
              "    <tr>\n",
              "      <th>75%</th>\n",
              "      <td>61.000000</td>\n",
              "      <td>1.000000</td>\n",
              "      <td>2.000000</td>\n",
              "      <td>140.000000</td>\n",
              "      <td>274.500000</td>\n",
              "      <td>0.000000</td>\n",
              "      <td>1.000000</td>\n",
              "      <td>166.000000</td>\n",
              "      <td>1.000000</td>\n",
              "      <td>1.600000</td>\n",
              "      <td>2.000000</td>\n",
              "      <td>1.000000</td>\n",
              "      <td>3.000000</td>\n",
              "      <td>1.000000</td>\n",
              "    </tr>\n",
              "    <tr>\n",
              "      <th>max</th>\n",
              "      <td>77.000000</td>\n",
              "      <td>1.000000</td>\n",
              "      <td>3.000000</td>\n",
              "      <td>200.000000</td>\n",
              "      <td>564.000000</td>\n",
              "      <td>1.000000</td>\n",
              "      <td>2.000000</td>\n",
              "      <td>202.000000</td>\n",
              "      <td>1.000000</td>\n",
              "      <td>6.200000</td>\n",
              "      <td>2.000000</td>\n",
              "      <td>4.000000</td>\n",
              "      <td>3.000000</td>\n",
              "      <td>1.000000</td>\n",
              "    </tr>\n",
              "  </tbody>\n",
              "</table>\n",
              "</div>\n",
              "      <button class=\"colab-df-convert\" onclick=\"convertToInteractive('df-fbbff9ac-186c-44d9-a59f-e587ff9b324a')\"\n",
              "              title=\"Convert this dataframe to an interactive table.\"\n",
              "              style=\"display:none;\">\n",
              "        \n",
              "  <svg xmlns=\"http://www.w3.org/2000/svg\" height=\"24px\"viewBox=\"0 0 24 24\"\n",
              "       width=\"24px\">\n",
              "    <path d=\"M0 0h24v24H0V0z\" fill=\"none\"/>\n",
              "    <path d=\"M18.56 5.44l.94 2.06.94-2.06 2.06-.94-2.06-.94-.94-2.06-.94 2.06-2.06.94zm-11 1L8.5 8.5l.94-2.06 2.06-.94-2.06-.94L8.5 2.5l-.94 2.06-2.06.94zm10 10l.94 2.06.94-2.06 2.06-.94-2.06-.94-.94-2.06-.94 2.06-2.06.94z\"/><path d=\"M17.41 7.96l-1.37-1.37c-.4-.4-.92-.59-1.43-.59-.52 0-1.04.2-1.43.59L10.3 9.45l-7.72 7.72c-.78.78-.78 2.05 0 2.83L4 21.41c.39.39.9.59 1.41.59.51 0 1.02-.2 1.41-.59l7.78-7.78 2.81-2.81c.8-.78.8-2.07 0-2.86zM5.41 20L4 18.59l7.72-7.72 1.47 1.35L5.41 20z\"/>\n",
              "  </svg>\n",
              "      </button>\n",
              "      \n",
              "  <style>\n",
              "    .colab-df-container {\n",
              "      display:flex;\n",
              "      flex-wrap:wrap;\n",
              "      gap: 12px;\n",
              "    }\n",
              "\n",
              "    .colab-df-convert {\n",
              "      background-color: #E8F0FE;\n",
              "      border: none;\n",
              "      border-radius: 50%;\n",
              "      cursor: pointer;\n",
              "      display: none;\n",
              "      fill: #1967D2;\n",
              "      height: 32px;\n",
              "      padding: 0 0 0 0;\n",
              "      width: 32px;\n",
              "    }\n",
              "\n",
              "    .colab-df-convert:hover {\n",
              "      background-color: #E2EBFA;\n",
              "      box-shadow: 0px 1px 2px rgba(60, 64, 67, 0.3), 0px 1px 3px 1px rgba(60, 64, 67, 0.15);\n",
              "      fill: #174EA6;\n",
              "    }\n",
              "\n",
              "    [theme=dark] .colab-df-convert {\n",
              "      background-color: #3B4455;\n",
              "      fill: #D2E3FC;\n",
              "    }\n",
              "\n",
              "    [theme=dark] .colab-df-convert:hover {\n",
              "      background-color: #434B5C;\n",
              "      box-shadow: 0px 1px 3px 1px rgba(0, 0, 0, 0.15);\n",
              "      filter: drop-shadow(0px 1px 2px rgba(0, 0, 0, 0.3));\n",
              "      fill: #FFFFFF;\n",
              "    }\n",
              "  </style>\n",
              "\n",
              "      <script>\n",
              "        const buttonEl =\n",
              "          document.querySelector('#df-fbbff9ac-186c-44d9-a59f-e587ff9b324a button.colab-df-convert');\n",
              "        buttonEl.style.display =\n",
              "          google.colab.kernel.accessAllowed ? 'block' : 'none';\n",
              "\n",
              "        async function convertToInteractive(key) {\n",
              "          const element = document.querySelector('#df-fbbff9ac-186c-44d9-a59f-e587ff9b324a');\n",
              "          const dataTable =\n",
              "            await google.colab.kernel.invokeFunction('convertToInteractive',\n",
              "                                                     [key], {});\n",
              "          if (!dataTable) return;\n",
              "\n",
              "          const docLinkHtml = 'Like what you see? Visit the ' +\n",
              "            '<a target=\"_blank\" href=https://colab.research.google.com/notebooks/data_table.ipynb>data table notebook</a>'\n",
              "            + ' to learn more about interactive tables.';\n",
              "          element.innerHTML = '';\n",
              "          dataTable['output_type'] = 'display_data';\n",
              "          await google.colab.output.renderOutput(dataTable, element);\n",
              "          const docLink = document.createElement('div');\n",
              "          docLink.innerHTML = docLinkHtml;\n",
              "          element.appendChild(docLink);\n",
              "        }\n",
              "      </script>\n",
              "    </div>\n",
              "  </div>\n",
              "  "
            ],
            "text/plain": [
              "              age         sex          cp  ...          ca        thal      target\n",
              "count  303.000000  303.000000  303.000000  ...  303.000000  303.000000  303.000000\n",
              "mean    54.366337    0.683168    0.966997  ...    0.729373    2.313531    0.544554\n",
              "std      9.082101    0.466011    1.032052  ...    1.022606    0.612277    0.498835\n",
              "min     29.000000    0.000000    0.000000  ...    0.000000    0.000000    0.000000\n",
              "25%     47.500000    0.000000    0.000000  ...    0.000000    2.000000    0.000000\n",
              "50%     55.000000    1.000000    1.000000  ...    0.000000    2.000000    1.000000\n",
              "75%     61.000000    1.000000    2.000000  ...    1.000000    3.000000    1.000000\n",
              "max     77.000000    1.000000    3.000000  ...    4.000000    3.000000    1.000000\n",
              "\n",
              "[8 rows x 14 columns]"
            ]
          },
          "metadata": {},
          "execution_count": 10
        }
      ]
    },
    {
      "cell_type": "markdown",
      "source": [
        "1:  Heart disease \\\n",
        "0:  No heart disease\n"
      ],
      "metadata": {
        "id": "ZC_c8laNpIoL"
      }
    },
    {
      "cell_type": "code",
      "source": [
        "heart_disease_df['target'].value_counts()"
      ],
      "metadata": {
        "colab": {
          "base_uri": "https://localhost:8080/"
        },
        "id": "ZHhT74AKndjc",
        "outputId": "dd08d81c-28f3-4ed5-b912-133f7cdc81af"
      },
      "execution_count": 13,
      "outputs": [
        {
          "output_type": "execute_result",
          "data": {
            "text/plain": [
              "1    165\n",
              "0    138\n",
              "Name: target, dtype: int64"
            ]
          },
          "metadata": {},
          "execution_count": 13
        }
      ]
    },
    {
      "cell_type": "markdown",
      "source": [
        "Splitting Features and Target "
      ],
      "metadata": {
        "id": "ioFPXnexpbdX"
      }
    },
    {
      "cell_type": "code",
      "source": [
        "x = heart_disease_df.loc[:, heart_disease_df.columns!='target']\n",
        "y= heart_disease_df['target']"
      ],
      "metadata": {
        "id": "FhwJsG--o4gC"
      },
      "execution_count": 21,
      "outputs": []
    },
    {
      "cell_type": "code",
      "source": [
        "print(x)"
      ],
      "metadata": {
        "colab": {
          "base_uri": "https://localhost:8080/"
        },
        "id": "uCLawjcup2j4",
        "outputId": "145562b4-1a6b-45c4-96c8-7cb18f9c87f2"
      },
      "execution_count": 22,
      "outputs": [
        {
          "output_type": "stream",
          "name": "stdout",
          "text": [
            "     age  sex  cp  trestbps  chol  ...  exang  oldpeak  slope  ca  thal\n",
            "0     63    1   3       145   233  ...      0      2.3      0   0     1\n",
            "1     37    1   2       130   250  ...      0      3.5      0   0     2\n",
            "2     41    0   1       130   204  ...      0      1.4      2   0     2\n",
            "3     56    1   1       120   236  ...      0      0.8      2   0     2\n",
            "4     57    0   0       120   354  ...      1      0.6      2   0     2\n",
            "..   ...  ...  ..       ...   ...  ...    ...      ...    ...  ..   ...\n",
            "298   57    0   0       140   241  ...      1      0.2      1   0     3\n",
            "299   45    1   3       110   264  ...      0      1.2      1   0     3\n",
            "300   68    1   0       144   193  ...      0      3.4      1   2     3\n",
            "301   57    1   0       130   131  ...      1      1.2      1   1     3\n",
            "302   57    0   1       130   236  ...      0      0.0      1   1     2\n",
            "\n",
            "[303 rows x 13 columns]\n"
          ]
        }
      ]
    },
    {
      "cell_type": "code",
      "source": [
        "print(y)"
      ],
      "metadata": {
        "colab": {
          "base_uri": "https://localhost:8080/"
        },
        "id": "bRN9wARQqRwS",
        "outputId": "b6b958b0-60b8-4d8e-cdf6-a4e12bdb86a8"
      },
      "execution_count": 23,
      "outputs": [
        {
          "output_type": "stream",
          "name": "stdout",
          "text": [
            "0      1\n",
            "1      1\n",
            "2      1\n",
            "3      1\n",
            "4      1\n",
            "      ..\n",
            "298    0\n",
            "299    0\n",
            "300    0\n",
            "301    0\n",
            "302    0\n",
            "Name: target, Length: 303, dtype: int64\n"
          ]
        }
      ]
    },
    {
      "cell_type": "markdown",
      "source": [
        "Train-Test Split"
      ],
      "metadata": {
        "id": "xN4t7hpaqbMv"
      }
    },
    {
      "cell_type": "code",
      "source": [
        "x_train, x_test, y_train, y_test = train_test_split(x,y, test_size=0.3, stratify=y, random_state=4)"
      ],
      "metadata": {
        "id": "5POHfOD8qc4H"
      },
      "execution_count": 26,
      "outputs": []
    },
    {
      "cell_type": "code",
      "source": [
        "print(x.shape, x_train.shape, x_test.shape)"
      ],
      "metadata": {
        "colab": {
          "base_uri": "https://localhost:8080/"
        },
        "id": "JAqiOD2Vq9rl",
        "outputId": "7e260506-bbf9-4bd6-a5e5-dde511ace133"
      },
      "execution_count": 27,
      "outputs": [
        {
          "output_type": "stream",
          "name": "stdout",
          "text": [
            "(303, 13) (212, 13) (91, 13)\n"
          ]
        }
      ]
    },
    {
      "cell_type": "markdown",
      "source": [
        "## Confusion Matrix"
      ],
      "metadata": {
        "id": "1xf4Pcgh_b5N"
      }
    },
    {
      "cell_type": "code",
      "source": [
        "def plot_confusion_matrix(cm, classes,\n",
        "                          normalize=False,\n",
        "                          title='Confusion matrix',\n",
        "                          cmap=plt.cm.Blues):\n",
        "    \"\"\"\n",
        "    This function prints and plots the confusion matrix.\n",
        "    Normalization can be applied by setting `normalize=True`.\n",
        "    \"\"\"\n",
        "    plt.imshow(cm, interpolation='nearest', cmap=cmap)\n",
        "    plt.title(title)\n",
        "    plt.colorbar()\n",
        "    tick_marks = np.arange(len(classes))\n",
        "    plt.xticks(tick_marks, classes, rotation=45)\n",
        "    plt.yticks(tick_marks, classes)\n",
        "\n",
        "    if normalize:\n",
        "        cm = cm.astype('float') / cm.sum(axis=1)[:, np.newaxis]\n",
        "        print(\"Normalized confusion matrix\")\n",
        "    else:\n",
        "        print('Confusion matrix, without normalization')\n",
        "\n",
        "    print(cm)\n",
        "\n",
        "    thresh = cm.max() / 2.\n",
        "    for i, j in itertools.product(range(cm.shape[0]), range(cm.shape[1])):\n",
        "        plt.text(j, i, cm[i, j],\n",
        "                 horizontalalignment=\"center\",\n",
        "                 color=\"white\" if cm[i, j] > thresh else \"black\")\n",
        "\n",
        "    plt.tight_layout()\n",
        "    plt.ylabel('True label')\n",
        "    plt.xlabel('Predicted label')\n"
      ],
      "metadata": {
        "id": "Xy_sKoQn_iU0"
      },
      "execution_count": 50,
      "outputs": []
    },
    {
      "cell_type": "markdown",
      "source": [
        "## Training"
      ],
      "metadata": {
        "id": "HMJOYOgmzBsr"
      }
    },
    {
      "cell_type": "markdown",
      "source": [
        "### Logistic Regression"
      ],
      "metadata": {
        "id": "cBB9PILxrPYi"
      }
    },
    {
      "cell_type": "code",
      "source": [
        "model_lg = LogisticRegression()\n",
        "model_lg.fit(x_train,y_train)"
      ],
      "metadata": {
        "colab": {
          "base_uri": "https://localhost:8080/"
        },
        "id": "10PyP-ngrLEj",
        "outputId": "afec2f0b-434f-45e9-e6bf-f998cb5e1558"
      },
      "execution_count": 51,
      "outputs": [
        {
          "output_type": "stream",
          "name": "stderr",
          "text": [
            "/usr/local/lib/python3.7/dist-packages/sklearn/linear_model/_logistic.py:818: ConvergenceWarning: lbfgs failed to converge (status=1):\n",
            "STOP: TOTAL NO. of ITERATIONS REACHED LIMIT.\n",
            "\n",
            "Increase the number of iterations (max_iter) or scale the data as shown in:\n",
            "    https://scikit-learn.org/stable/modules/preprocessing.html\n",
            "Please also refer to the documentation for alternative solver options:\n",
            "    https://scikit-learn.org/stable/modules/linear_model.html#logistic-regression\n",
            "  extra_warning_msg=_LOGISTIC_SOLVER_CONVERGENCE_MSG,\n"
          ]
        },
        {
          "output_type": "execute_result",
          "data": {
            "text/plain": [
              "LogisticRegression()"
            ]
          },
          "metadata": {},
          "execution_count": 51
        }
      ]
    },
    {
      "cell_type": "markdown",
      "source": [
        "Performance Evaluation: Accuracy "
      ],
      "metadata": {
        "id": "hPIuBJ0mru2L"
      }
    },
    {
      "cell_type": "code",
      "source": [
        "y_test_predictions_lg=model_lg.predict(x_test)\n",
        "lg_testing_acc= round(accuracy_score(y_test_predictions_lg, y_test)*100)"
      ],
      "metadata": {
        "id": "0lV5mV9irZX7"
      },
      "execution_count": 124,
      "outputs": []
    },
    {
      "cell_type": "code",
      "source": [
        "print(\"Accuracy using logistic regression is: \"+str(lg_testing_acc)+\" %\")"
      ],
      "metadata": {
        "colab": {
          "base_uri": "https://localhost:8080/"
        },
        "id": "2fjVILcRAW_i",
        "outputId": "34210fed-c656-49bb-e27d-72c82b9461de"
      },
      "execution_count": 125,
      "outputs": [
        {
          "output_type": "stream",
          "name": "stdout",
          "text": [
            "Accuracy using logistic regression is: 87 %\n"
          ]
        }
      ]
    },
    {
      "cell_type": "markdown",
      "source": [
        "Confusion Matrix"
      ],
      "metadata": {
        "id": "ZAbvu2ottWN9"
      }
    },
    {
      "cell_type": "code",
      "source": [
        "cm = confusion_matrix(y_true=y_test,y_pred=y_test_predictions_lg)"
      ],
      "metadata": {
        "id": "_Ad0mJoYsC5W"
      },
      "execution_count": 126,
      "outputs": []
    },
    {
      "cell_type": "code",
      "source": [
        "cm_plot_labels =['no_heart_disease','heart_disease']\n",
        "plot_confusion_matrix(cm=cm,classes=cm_plot_labels,title='Confusion Matrix (Logistic Regression)')"
      ],
      "metadata": {
        "colab": {
          "base_uri": "https://localhost:8080/",
          "height": 363
        },
        "id": "PbaH0okYt7QA",
        "outputId": "fe38a906-c5a9-4c71-8f06-737f9dcd95a2"
      },
      "execution_count": 127,
      "outputs": [
        {
          "output_type": "stream",
          "name": "stdout",
          "text": [
            "Confusion matrix, without normalization\n",
            "[[31 10]\n",
            " [ 2 48]]\n"
          ]
        },
        {
          "output_type": "display_data",
          "data": {
            "image/png": "[encoded data removed]",
            "text/plain": [
              "<Figure size 432x288 with 2 Axes>"
            ]
          },
          "metadata": {
            "needs_background": "light"
          }
        }
      ]
    },
    {
      "cell_type": "markdown",
      "source": [
        "## Neural Network"
      ],
      "metadata": {
        "id": "SHjkHVN7A40B"
      }
    },
    {
      "cell_type": "code",
      "source": [
        "from keras.models import Sequential\n",
        "from keras.layers import Dense, Dropout\n",
        "from tensorflow.keras.optimizers import Adam\n",
        "from tensorflow.keras.metrics import categorical_crossentropy, BinaryAccuracy\n",
        "from keras import regularizers"
      ],
      "metadata": {
        "id": "2KCBfsgkGyce"
      },
      "execution_count": 132,
      "outputs": []
    },
    {
      "cell_type": "code",
      "source": [
        "model_nn = Sequential()\n",
        "model_nn.add(Dense(16, input_dim=13, kernel_initializer='normal', kernel_regularizer=regularizers.l2(0.001),activation='relu'))\n",
        "model_nn.add(Dropout(0.25))\n",
        "model_nn.add(Dense(8, kernel_initializer='normal',  kernel_regularizer=regularizers.l2(0.001),activation='relu'))\n",
        "model_nn.add(Dropout(0.25))\n",
        "model_nn.add(Dense(1, activation='sigmoid'))\n"
      ],
      "metadata": {
        "id": "Rw0EXxnhAvzg"
      },
      "execution_count": 118,
      "outputs": []
    },
    {
      "cell_type": "code",
      "source": [
        "model_nn.summary()"
      ],
      "metadata": {
        "colab": {
          "base_uri": "https://localhost:8080/"
        },
        "id": "otufbpoLHAa4",
        "outputId": "4860a05b-b2bd-483f-fae8-2db4cb6fb22f"
      },
      "execution_count": 119,
      "outputs": [
        {
          "output_type": "stream",
          "name": "stdout",
          "text": [
            "Model: \"sequential_11\"\n",
            "_________________________________________________________________\n",
            " Layer (type)                Output Shape              Param #   \n",
            "=================================================================\n",
            " dense_23 (Dense)            (None, 16)                224       \n",
            "                                                                 \n",
            " dropout_2 (Dropout)         (None, 16)                0         \n",
            "                                                                 \n",
            " dense_24 (Dense)            (None, 8)                 136       \n",
            "                                                                 \n",
            " dropout_3 (Dropout)         (None, 8)                 0         \n",
            "                                                                 \n",
            " dense_25 (Dense)            (None, 1)                 9         \n",
            "                                                                 \n",
            "=================================================================\n",
            "Total params: 369\n",
            "Trainable params: 369\n",
            "Non-trainable params: 0\n",
            "_________________________________________________________________\n"
          ]
        }
      ]
    },
    {
      "cell_type": "code",
      "source": [
        "model_nn.compile(optimizer='rmsprop', loss='binary_crossentropy', metrics=['accuracy'])"
      ],
      "metadata": {
        "id": "6J4447lmHGyU"
      },
      "execution_count": 120,
      "outputs": []
    },
    {
      "cell_type": "code",
      "source": [
        "model_nn.fit(x_train, y_train, epochs=300, batch_size=10)\n"
      ],
      "metadata": {
        "colab": {
          "base_uri": "https://localhost:8080/"
        },
        "id": "j04ONgJlH-to",
        "outputId": "80c2d475-89ec-49b0-b9e8-c312ba7592fd"
      },
      "execution_count": 123,
      "outputs": [
        {
          "output_type": "stream",
          "name": "stdout",
          "text": [
            "Epoch 1/300\n",
            "22/22 [==============================] - 0s 3ms/step - loss: 0.4385 - accuracy: 0.8019\n",
            "Epoch 2/300\n",
            "22/22 [==============================] - 0s 2ms/step - loss: 0.4746 - accuracy: 0.8066\n",
            "Epoch 3/300\n",
            "22/22 [==============================] - 0s 2ms/step - loss: 0.4402 - accuracy: 0.8160\n",
            "Epoch 4/300\n",
            "22/22 [==============================] - 0s 2ms/step - loss: 0.4774 - accuracy: 0.7406\n",
            "Epoch 5/300\n",
            "22/22 [==============================] - 0s 2ms/step - loss: 0.4529 - accuracy: 0.8019\n",
            "Epoch 6/300\n",
            "22/22 [==============================] - 0s 2ms/step - loss: 0.4698 - accuracy: 0.7972\n",
            "Epoch 7/300\n",
            "22/22 [==============================] - 0s 2ms/step - loss: 0.4619 - accuracy: 0.7972\n",
            "Epoch 8/300\n",
            "22/22 [==============================] - 0s 2ms/step - loss: 0.4635 - accuracy: 0.8113\n",
            "Epoch 9/300\n",
            "22/22 [==============================] - 0s 3ms/step - loss: 0.4506 - accuracy: 0.8255\n",
            "Epoch 10/300\n",
            "22/22 [==============================] - 0s 3ms/step - loss: 0.4413 - accuracy: 0.7972\n",
            "Epoch 11/300\n",
            "22/22 [==============================] - 0s 4ms/step - loss: 0.4265 - accuracy: 0.8255\n",
            "Epoch 12/300\n",
            "22/22 [==============================] - 0s 3ms/step - loss: 0.4800 - accuracy: 0.7736\n",
            "Epoch 13/300\n",
            "22/22 [==============================] - 0s 3ms/step - loss: 0.4699 - accuracy: 0.7925\n",
            "Epoch 14/300\n",
            "22/22 [==============================] - 0s 3ms/step - loss: 0.4392 - accuracy: 0.7877\n",
            "Epoch 15/300\n",
            "22/22 [==============================] - 0s 4ms/step - loss: 0.4870 - accuracy: 0.7877\n",
            "Epoch 16/300\n",
            "22/22 [==============================] - 0s 3ms/step - loss: 0.4355 - accuracy: 0.7925\n",
            "Epoch 17/300\n",
            "22/22 [==============================] - 0s 4ms/step - loss: 0.4356 - accuracy: 0.7877\n",
            "Epoch 18/300\n",
            "22/22 [==============================] - 0s 3ms/step - loss: 0.4726 - accuracy: 0.8066\n",
            "Epoch 19/300\n",
            "22/22 [==============================] - 0s 3ms/step - loss: 0.4364 - accuracy: 0.8160\n",
            "Epoch 20/300\n",
            "22/22 [==============================] - 0s 4ms/step - loss: 0.4406 - accuracy: 0.7925\n",
            "Epoch 21/300\n",
            "22/22 [==============================] - 0s 2ms/step - loss: 0.4575 - accuracy: 0.7689\n",
            "Epoch 22/300\n",
            "22/22 [==============================] - 0s 2ms/step - loss: 0.4880 - accuracy: 0.8208\n",
            "Epoch 23/300\n",
            "22/22 [==============================] - 0s 2ms/step - loss: 0.4158 - accuracy: 0.8349\n",
            "Epoch 24/300\n",
            "22/22 [==============================] - 0s 2ms/step - loss: 0.4846 - accuracy: 0.7783\n",
            "Epoch 25/300\n",
            "22/22 [==============================] - 0s 2ms/step - loss: 0.4428 - accuracy: 0.7972\n",
            "Epoch 26/300\n",
            "22/22 [==============================] - 0s 3ms/step - loss: 0.5121 - accuracy: 0.7877\n",
            "Epoch 27/300\n",
            "22/22 [==============================] - 0s 3ms/step - loss: 0.5002 - accuracy: 0.7500\n",
            "Epoch 28/300\n",
            "22/22 [==============================] - 0s 2ms/step - loss: 0.4558 - accuracy: 0.8019\n",
            "Epoch 29/300\n",
            "22/22 [==============================] - 0s 3ms/step - loss: 0.4722 - accuracy: 0.8113\n",
            "Epoch 30/300\n",
            "22/22 [==============================] - 0s 3ms/step - loss: 0.4626 - accuracy: 0.7877\n",
            "Epoch 31/300\n",
            "22/22 [==============================] - 0s 3ms/step - loss: 0.4357 - accuracy: 0.8066\n",
            "Epoch 32/300\n",
            "22/22 [==============================] - 0s 3ms/step - loss: 0.4499 - accuracy: 0.7877\n",
            "Epoch 33/300\n",
            "22/22 [==============================] - 0s 2ms/step - loss: 0.4458 - accuracy: 0.8208\n",
            "Epoch 34/300\n",
            "22/22 [==============================] - 0s 2ms/step - loss: 0.4576 - accuracy: 0.7925\n",
            "Epoch 35/300\n",
            "22/22 [==============================] - 0s 3ms/step - loss: 0.4553 - accuracy: 0.8160\n",
            "Epoch 36/300\n",
            "22/22 [==============================] - 0s 3ms/step - loss: 0.4382 - accuracy: 0.8066\n",
            "Epoch 37/300\n",
            "22/22 [==============================] - 0s 2ms/step - loss: 0.4482 - accuracy: 0.8113\n",
            "Epoch 38/300\n",
            "22/22 [==============================] - 0s 2ms/step - loss: 0.4374 - accuracy: 0.7972\n",
            "Epoch 39/300\n",
            "22/22 [==============================] - 0s 3ms/step - loss: 0.4531 - accuracy: 0.8066\n",
            "Epoch 40/300\n",
            "22/22 [==============================] - 0s 2ms/step - loss: 0.4509 - accuracy: 0.8160\n",
            "Epoch 41/300\n",
            "22/22 [==============================] - 0s 2ms/step - loss: 0.4824 - accuracy: 0.7877\n",
            "Epoch 42/300\n",
            "22/22 [==============================] - 0s 3ms/step - loss: 0.4589 - accuracy: 0.7736\n",
            "Epoch 43/300\n",
            "22/22 [==============================] - 0s 2ms/step - loss: 0.4839 - accuracy: 0.7877\n",
            "Epoch 44/300\n",
            "22/22 [==============================] - 0s 5ms/step - loss: 0.4460 - accuracy: 0.8160\n",
            "Epoch 45/300\n",
            "22/22 [==============================] - 0s 4ms/step - loss: 0.4464 - accuracy: 0.7972\n",
            "Epoch 46/300\n",
            "22/22 [==============================] - 0s 4ms/step - loss: 0.4725 - accuracy: 0.7972\n",
            "Epoch 47/300\n",
            "22/22 [==============================] - 0s 4ms/step - loss: 0.4820 - accuracy: 0.8113\n",
            "Epoch 48/300\n",
            "22/22 [==============================] - 0s 5ms/step - loss: 0.4866 - accuracy: 0.7830\n",
            "Epoch 49/300\n",
            "22/22 [==============================] - 0s 5ms/step - loss: 0.4499 - accuracy: 0.8302\n",
            "Epoch 50/300\n",
            "22/22 [==============================] - 0s 5ms/step - loss: 0.4851 - accuracy: 0.7830\n",
            "Epoch 51/300\n",
            "22/22 [==============================] - 0s 5ms/step - loss: 0.4318 - accuracy: 0.7877\n",
            "Epoch 52/300\n",
            "22/22 [==============================] - 0s 5ms/step - loss: 0.4524 - accuracy: 0.7972\n",
            "Epoch 53/300\n",
            "22/22 [==============================] - 0s 3ms/step - loss: 0.4352 - accuracy: 0.7877\n",
            "Epoch 54/300\n",
            "22/22 [==============================] - 0s 4ms/step - loss: 0.4813 - accuracy: 0.8255\n",
            "Epoch 55/300\n",
            "22/22 [==============================] - 0s 3ms/step - loss: 0.4983 - accuracy: 0.7925\n",
            "Epoch 56/300\n",
            "22/22 [==============================] - 0s 3ms/step - loss: 0.4179 - accuracy: 0.8255\n",
            "Epoch 57/300\n",
            "22/22 [==============================] - 0s 2ms/step - loss: 0.4601 - accuracy: 0.8349\n",
            "Epoch 58/300\n",
            "22/22 [==============================] - 0s 1ms/step - loss: 0.4440 - accuracy: 0.7972\n",
            "Epoch 59/300\n",
            "22/22 [==============================] - 0s 2ms/step - loss: 0.4958 - accuracy: 0.7830\n",
            "Epoch 60/300\n",
            "22/22 [==============================] - 0s 2ms/step - loss: 0.4364 - accuracy: 0.8160\n",
            "Epoch 61/300\n",
            "22/22 [==============================] - 0s 1ms/step - loss: 0.4682 - accuracy: 0.8255\n",
            "Epoch 62/300\n",
            "22/22 [==============================] - 0s 2ms/step - loss: 0.4595 - accuracy: 0.8019\n",
            "Epoch 63/300\n",
            "22/22 [==============================] - 0s 2ms/step - loss: 0.4716 - accuracy: 0.8113\n",
            "Epoch 64/300\n",
            "22/22 [==============================] - 0s 2ms/step - loss: 0.4591 - accuracy: 0.7925\n",
            "Epoch 65/300\n",
            "22/22 [==============================] - 0s 1ms/step - loss: 0.4767 - accuracy: 0.7689\n",
            "Epoch 66/300\n",
            "22/22 [==============================] - 0s 2ms/step - loss: 0.4547 - accuracy: 0.8113\n",
            "Epoch 67/300\n",
            "22/22 [==============================] - 0s 2ms/step - loss: 0.4420 - accuracy: 0.7877\n",
            "Epoch 68/300\n",
            "22/22 [==============================] - 0s 2ms/step - loss: 0.5007 - accuracy: 0.7877\n",
            "Epoch 69/300\n",
            "22/22 [==============================] - 0s 2ms/step - loss: 0.4328 - accuracy: 0.8255\n",
            "Epoch 70/300\n",
            "22/22 [==============================] - 0s 2ms/step - loss: 0.4715 - accuracy: 0.8113\n",
            "Epoch 71/300\n",
            "22/22 [==============================] - 0s 2ms/step - loss: 0.4460 - accuracy: 0.7830\n",
            "Epoch 72/300\n",
            "22/22 [==============================] - 0s 2ms/step - loss: 0.4692 - accuracy: 0.8160\n",
            "Epoch 73/300\n",
            "22/22 [==============================] - 0s 2ms/step - loss: 0.4705 - accuracy: 0.7594\n",
            "Epoch 74/300\n",
            "22/22 [==============================] - 0s 2ms/step - loss: 0.4217 - accuracy: 0.7972\n",
            "Epoch 75/300\n",
            "22/22 [==============================] - 0s 2ms/step - loss: 0.4620 - accuracy: 0.7736\n",
            "Epoch 76/300\n",
            "22/22 [==============================] - 0s 2ms/step - loss: 0.4785 - accuracy: 0.7783\n",
            "Epoch 77/300\n",
            "22/22 [==============================] - 0s 2ms/step - loss: 0.4692 - accuracy: 0.7925\n",
            "Epoch 78/300\n",
            "22/22 [==============================] - 0s 2ms/step - loss: 0.4448 - accuracy: 0.8443\n",
            "Epoch 79/300\n",
            "22/22 [==============================] - 0s 2ms/step - loss: 0.4325 - accuracy: 0.7972\n",
            "Epoch 80/300\n",
            "22/22 [==============================] - 0s 2ms/step - loss: 0.5022 - accuracy: 0.7642\n",
            "Epoch 81/300\n",
            "22/22 [==============================] - 0s 2ms/step - loss: 0.4741 - accuracy: 0.8160\n",
            "Epoch 82/300\n",
            "22/22 [==============================] - 0s 2ms/step - loss: 0.4541 - accuracy: 0.7925\n",
            "Epoch 83/300\n",
            "22/22 [==============================] - 0s 2ms/step - loss: 0.4511 - accuracy: 0.8113\n",
            "Epoch 84/300\n",
            "22/22 [==============================] - 0s 2ms/step - loss: 0.4647 - accuracy: 0.7783\n",
            "Epoch 85/300\n",
            "22/22 [==============================] - 0s 2ms/step - loss: 0.4375 - accuracy: 0.8113\n",
            "Epoch 86/300\n",
            "22/22 [==============================] - 0s 2ms/step - loss: 0.4116 - accuracy: 0.7830\n",
            "Epoch 87/300\n",
            "22/22 [==============================] - 0s 2ms/step - loss: 0.4388 - accuracy: 0.8019\n",
            "Epoch 88/300\n",
            "22/22 [==============================] - 0s 2ms/step - loss: 0.4508 - accuracy: 0.7877\n",
            "Epoch 89/300\n",
            "22/22 [==============================] - 0s 2ms/step - loss: 0.4284 - accuracy: 0.8208\n",
            "Epoch 90/300\n",
            "22/22 [==============================] - 0s 2ms/step - loss: 0.4416 - accuracy: 0.8019\n",
            "Epoch 91/300\n",
            "22/22 [==============================] - 0s 2ms/step - loss: 0.4330 - accuracy: 0.8585\n",
            "Epoch 92/300\n",
            "22/22 [==============================] - 0s 2ms/step - loss: 0.4693 - accuracy: 0.8302\n",
            "Epoch 93/300\n",
            "22/22 [==============================] - 0s 2ms/step - loss: 0.4580 - accuracy: 0.7783\n",
            "Epoch 94/300\n",
            "22/22 [==============================] - 0s 2ms/step - loss: 0.4663 - accuracy: 0.7877\n",
            "Epoch 95/300\n",
            "22/22 [==============================] - 0s 2ms/step - loss: 0.4290 - accuracy: 0.8019\n",
            "Epoch 96/300\n",
            "22/22 [==============================] - 0s 2ms/step - loss: 0.4488 - accuracy: 0.8019\n",
            "Epoch 97/300\n",
            "22/22 [==============================] - 0s 2ms/step - loss: 0.4936 - accuracy: 0.7642\n",
            "Epoch 98/300\n",
            "22/22 [==============================] - 0s 2ms/step - loss: 0.4414 - accuracy: 0.8255\n",
            "Epoch 99/300\n",
            "22/22 [==============================] - 0s 2ms/step - loss: 0.4612 - accuracy: 0.8066\n",
            "Epoch 100/300\n",
            "22/22 [==============================] - 0s 2ms/step - loss: 0.5161 - accuracy: 0.8160\n",
            "Epoch 101/300\n",
            "22/22 [==============================] - 0s 2ms/step - loss: 0.4329 - accuracy: 0.8019\n",
            "Epoch 102/300\n",
            "22/22 [==============================] - 0s 2ms/step - loss: 0.4703 - accuracy: 0.7925\n",
            "Epoch 103/300\n",
            "22/22 [==============================] - 0s 2ms/step - loss: 0.4643 - accuracy: 0.7972\n",
            "Epoch 104/300\n",
            "22/22 [==============================] - 0s 2ms/step - loss: 0.4967 - accuracy: 0.8019\n",
            "Epoch 105/300\n",
            "22/22 [==============================] - 0s 2ms/step - loss: 0.4450 - accuracy: 0.8302\n",
            "Epoch 106/300\n",
            "22/22 [==============================] - 0s 1ms/step - loss: 0.4450 - accuracy: 0.8113\n",
            "Epoch 107/300\n",
            "22/22 [==============================] - 0s 2ms/step - loss: 0.4445 - accuracy: 0.7830\n",
            "Epoch 108/300\n",
            "22/22 [==============================] - 0s 2ms/step - loss: 0.4554 - accuracy: 0.8208\n",
            "Epoch 109/300\n",
            "22/22 [==============================] - 0s 2ms/step - loss: 0.4798 - accuracy: 0.8113\n",
            "Epoch 110/300\n",
            "22/22 [==============================] - 0s 2ms/step - loss: 0.4688 - accuracy: 0.8019\n",
            "Epoch 111/300\n",
            "22/22 [==============================] - 0s 2ms/step - loss: 0.4752 - accuracy: 0.7972\n",
            "Epoch 112/300\n",
            "22/22 [==============================] - 0s 2ms/step - loss: 0.4641 - accuracy: 0.8066\n",
            "Epoch 113/300\n",
            "22/22 [==============================] - 0s 2ms/step - loss: 0.4669 - accuracy: 0.7877\n",
            "Epoch 114/300\n",
            "22/22 [==============================] - 0s 2ms/step - loss: 0.4513 - accuracy: 0.7877\n",
            "Epoch 115/300\n",
            "22/22 [==============================] - 0s 2ms/step - loss: 0.4746 - accuracy: 0.8302\n",
            "Epoch 116/300\n",
            "22/22 [==============================] - 0s 2ms/step - loss: 0.4706 - accuracy: 0.7925\n",
            "Epoch 117/300\n",
            "22/22 [==============================] - 0s 2ms/step - loss: 0.4414 - accuracy: 0.8255\n",
            "Epoch 118/300\n",
            "22/22 [==============================] - 0s 2ms/step - loss: 0.4423 - accuracy: 0.8066\n",
            "Epoch 119/300\n",
            "22/22 [==============================] - 0s 2ms/step - loss: 0.4577 - accuracy: 0.8066\n",
            "Epoch 120/300\n",
            "22/22 [==============================] - 0s 2ms/step - loss: 0.4877 - accuracy: 0.7972\n",
            "Epoch 121/300\n",
            "22/22 [==============================] - 0s 2ms/step - loss: 0.4789 - accuracy: 0.7972\n",
            "Epoch 122/300\n",
            "22/22 [==============================] - 0s 2ms/step - loss: 0.4509 - accuracy: 0.8066\n",
            "Epoch 123/300\n",
            "22/22 [==============================] - 0s 2ms/step - loss: 0.4243 - accuracy: 0.7972\n",
            "Epoch 124/300\n",
            "22/22 [==============================] - 0s 2ms/step - loss: 0.4767 - accuracy: 0.8019\n",
            "Epoch 125/300\n",
            "22/22 [==============================] - 0s 2ms/step - loss: 0.4951 - accuracy: 0.7972\n",
            "Epoch 126/300\n",
            "22/22 [==============================] - 0s 2ms/step - loss: 0.4781 - accuracy: 0.7925\n",
            "Epoch 127/300\n",
            "22/22 [==============================] - 0s 2ms/step - loss: 0.4596 - accuracy: 0.8113\n",
            "Epoch 128/300\n",
            "22/22 [==============================] - 0s 2ms/step - loss: 0.4876 - accuracy: 0.7830\n",
            "Epoch 129/300\n",
            "22/22 [==============================] - 0s 2ms/step - loss: 0.4559 - accuracy: 0.7830\n",
            "Epoch 130/300\n",
            "22/22 [==============================] - 0s 2ms/step - loss: 0.4925 - accuracy: 0.7877\n",
            "Epoch 131/300\n",
            "22/22 [==============================] - 0s 2ms/step - loss: 0.4226 - accuracy: 0.8160\n",
            "Epoch 132/300\n",
            "22/22 [==============================] - 0s 2ms/step - loss: 0.5072 - accuracy: 0.7783\n",
            "Epoch 133/300\n",
            "22/22 [==============================] - 0s 2ms/step - loss: 0.4767 - accuracy: 0.7972\n",
            "Epoch 134/300\n",
            "22/22 [==============================] - 0s 2ms/step - loss: 0.4391 - accuracy: 0.8208\n",
            "Epoch 135/300\n",
            "22/22 [==============================] - 0s 2ms/step - loss: 0.4915 - accuracy: 0.7877\n",
            "Epoch 136/300\n",
            "22/22 [==============================] - 0s 2ms/step - loss: 0.4444 - accuracy: 0.8208\n",
            "Epoch 137/300\n",
            "22/22 [==============================] - 0s 2ms/step - loss: 0.4724 - accuracy: 0.7830\n",
            "Epoch 138/300\n",
            "22/22 [==============================] - 0s 2ms/step - loss: 0.4612 - accuracy: 0.8066\n",
            "Epoch 139/300\n",
            "22/22 [==============================] - 0s 2ms/step - loss: 0.4774 - accuracy: 0.7830\n",
            "Epoch 140/300\n",
            "22/22 [==============================] - 0s 2ms/step - loss: 0.4364 - accuracy: 0.8255\n",
            "Epoch 141/300\n",
            "22/22 [==============================] - 0s 2ms/step - loss: 0.4434 - accuracy: 0.8255\n",
            "Epoch 142/300\n",
            "22/22 [==============================] - 0s 2ms/step - loss: 0.4634 - accuracy: 0.8113\n",
            "Epoch 143/300\n",
            "22/22 [==============================] - 0s 2ms/step - loss: 0.4615 - accuracy: 0.7877\n",
            "Epoch 144/300\n",
            "22/22 [==============================] - 0s 2ms/step - loss: 0.4453 - accuracy: 0.8302\n",
            "Epoch 145/300\n",
            "22/22 [==============================] - 0s 2ms/step - loss: 0.4570 - accuracy: 0.7972\n",
            "Epoch 146/300\n",
            "22/22 [==============================] - 0s 2ms/step - loss: 0.4452 - accuracy: 0.8160\n",
            "Epoch 147/300\n",
            "22/22 [==============================] - 0s 2ms/step - loss: 0.4587 - accuracy: 0.7830\n",
            "Epoch 148/300\n",
            "22/22 [==============================] - 0s 2ms/step - loss: 0.4271 - accuracy: 0.8160\n",
            "Epoch 149/300\n",
            "22/22 [==============================] - 0s 2ms/step - loss: 0.4481 - accuracy: 0.8113\n",
            "Epoch 150/300\n",
            "22/22 [==============================] - 0s 2ms/step - loss: 0.4418 - accuracy: 0.8066\n",
            "Epoch 151/300\n",
            "22/22 [==============================] - 0s 2ms/step - loss: 0.4607 - accuracy: 0.8066\n",
            "Epoch 152/300\n",
            "22/22 [==============================] - 0s 2ms/step - loss: 0.4477 - accuracy: 0.8066\n",
            "Epoch 153/300\n",
            "22/22 [==============================] - 0s 2ms/step - loss: 0.4286 - accuracy: 0.8066\n",
            "Epoch 154/300\n",
            "22/22 [==============================] - 0s 2ms/step - loss: 0.4425 - accuracy: 0.8019\n",
            "Epoch 155/300\n",
            "22/22 [==============================] - 0s 2ms/step - loss: 0.4286 - accuracy: 0.8113\n",
            "Epoch 156/300\n",
            "22/22 [==============================] - 0s 2ms/step - loss: 0.4245 - accuracy: 0.8019\n",
            "Epoch 157/300\n",
            "22/22 [==============================] - 0s 2ms/step - loss: 0.4204 - accuracy: 0.8255\n",
            "Epoch 158/300\n",
            "22/22 [==============================] - 0s 2ms/step - loss: 0.4841 - accuracy: 0.8302\n",
            "Epoch 159/300\n",
            "22/22 [==============================] - 0s 2ms/step - loss: 0.4697 - accuracy: 0.7925\n",
            "Epoch 160/300\n",
            "22/22 [==============================] - 0s 2ms/step - loss: 0.4473 - accuracy: 0.8208\n",
            "Epoch 161/300\n",
            "22/22 [==============================] - 0s 2ms/step - loss: 0.4699 - accuracy: 0.7877\n",
            "Epoch 162/300\n",
            "22/22 [==============================] - 0s 2ms/step - loss: 0.4227 - accuracy: 0.8113\n",
            "Epoch 163/300\n",
            "22/22 [==============================] - 0s 2ms/step - loss: 0.4536 - accuracy: 0.8302\n",
            "Epoch 164/300\n",
            "22/22 [==============================] - 0s 2ms/step - loss: 0.4513 - accuracy: 0.8349\n",
            "Epoch 165/300\n",
            "22/22 [==============================] - 0s 2ms/step - loss: 0.4625 - accuracy: 0.8066\n",
            "Epoch 166/300\n",
            "22/22 [==============================] - 0s 2ms/step - loss: 0.4663 - accuracy: 0.8160\n",
            "Epoch 167/300\n",
            "22/22 [==============================] - 0s 2ms/step - loss: 0.4466 - accuracy: 0.7877\n",
            "Epoch 168/300\n",
            "22/22 [==============================] - 0s 2ms/step - loss: 0.4390 - accuracy: 0.8396\n",
            "Epoch 169/300\n",
            "22/22 [==============================] - 0s 2ms/step - loss: 0.4522 - accuracy: 0.8255\n",
            "Epoch 170/300\n",
            "22/22 [==============================] - 0s 2ms/step - loss: 0.4694 - accuracy: 0.8208\n",
            "Epoch 171/300\n",
            "22/22 [==============================] - 0s 2ms/step - loss: 0.4377 - accuracy: 0.8396\n",
            "Epoch 172/300\n",
            "22/22 [==============================] - 0s 2ms/step - loss: 0.4517 - accuracy: 0.7972\n",
            "Epoch 173/300\n",
            "22/22 [==============================] - 0s 2ms/step - loss: 0.4204 - accuracy: 0.8160\n",
            "Epoch 174/300\n",
            "22/22 [==============================] - 0s 2ms/step - loss: 0.4445 - accuracy: 0.8302\n",
            "Epoch 175/300\n",
            "22/22 [==============================] - 0s 2ms/step - loss: 0.4513 - accuracy: 0.7594\n",
            "Epoch 176/300\n",
            "22/22 [==============================] - 0s 2ms/step - loss: 0.4229 - accuracy: 0.8066\n",
            "Epoch 177/300\n",
            "22/22 [==============================] - 0s 2ms/step - loss: 0.4340 - accuracy: 0.8113\n",
            "Epoch 178/300\n",
            "22/22 [==============================] - 0s 2ms/step - loss: 0.4405 - accuracy: 0.8019\n",
            "Epoch 179/300\n",
            "22/22 [==============================] - 0s 2ms/step - loss: 0.4546 - accuracy: 0.7925\n",
            "Epoch 180/300\n",
            "22/22 [==============================] - 0s 2ms/step - loss: 0.4492 - accuracy: 0.8019\n",
            "Epoch 181/300\n",
            "22/22 [==============================] - 0s 2ms/step - loss: 0.4541 - accuracy: 0.8066\n",
            "Epoch 182/300\n",
            "22/22 [==============================] - 0s 2ms/step - loss: 0.4333 - accuracy: 0.8349\n",
            "Epoch 183/300\n",
            "22/22 [==============================] - 0s 2ms/step - loss: 0.4310 - accuracy: 0.8066\n",
            "Epoch 184/300\n",
            "22/22 [==============================] - 0s 2ms/step - loss: 0.4329 - accuracy: 0.8066\n",
            "Epoch 185/300\n",
            "22/22 [==============================] - 0s 2ms/step - loss: 0.4274 - accuracy: 0.7972\n",
            "Epoch 186/300\n",
            "22/22 [==============================] - 0s 2ms/step - loss: 0.4815 - accuracy: 0.8113\n",
            "Epoch 187/300\n",
            "22/22 [==============================] - 0s 2ms/step - loss: 0.4602 - accuracy: 0.7972\n",
            "Epoch 188/300\n",
            "22/22 [==============================] - 0s 2ms/step - loss: 0.4744 - accuracy: 0.8019\n",
            "Epoch 189/300\n",
            "22/22 [==============================] - 0s 2ms/step - loss: 0.4348 - accuracy: 0.7830\n",
            "Epoch 190/300\n",
            "22/22 [==============================] - 0s 2ms/step - loss: 0.4317 - accuracy: 0.8019\n",
            "Epoch 191/300\n",
            "22/22 [==============================] - 0s 3ms/step - loss: 0.4377 - accuracy: 0.8443\n",
            "Epoch 192/300\n",
            "22/22 [==============================] - 0s 2ms/step - loss: 0.4531 - accuracy: 0.8113\n",
            "Epoch 193/300\n",
            "22/22 [==============================] - 0s 2ms/step - loss: 0.4740 - accuracy: 0.7783\n",
            "Epoch 194/300\n",
            "22/22 [==============================] - 0s 2ms/step - loss: 0.4393 - accuracy: 0.8160\n",
            "Epoch 195/300\n",
            "22/22 [==============================] - 0s 2ms/step - loss: 0.4751 - accuracy: 0.7547\n",
            "Epoch 196/300\n",
            "22/22 [==============================] - 0s 2ms/step - loss: 0.4534 - accuracy: 0.7972\n",
            "Epoch 197/300\n",
            "22/22 [==============================] - 0s 2ms/step - loss: 0.4160 - accuracy: 0.8255\n",
            "Epoch 198/300\n",
            "22/22 [==============================] - 0s 2ms/step - loss: 0.4614 - accuracy: 0.7877\n",
            "Epoch 199/300\n",
            "22/22 [==============================] - 0s 2ms/step - loss: 0.4250 - accuracy: 0.7925\n",
            "Epoch 200/300\n",
            "22/22 [==============================] - 0s 2ms/step - loss: 0.4816 - accuracy: 0.8255\n",
            "Epoch 201/300\n",
            "22/22 [==============================] - 0s 2ms/step - loss: 0.4483 - accuracy: 0.8255\n",
            "Epoch 202/300\n",
            "22/22 [==============================] - 0s 2ms/step - loss: 0.4529 - accuracy: 0.7925\n",
            "Epoch 203/300\n",
            "22/22 [==============================] - 0s 2ms/step - loss: 0.4920 - accuracy: 0.8019\n",
            "Epoch 204/300\n",
            "22/22 [==============================] - 0s 2ms/step - loss: 0.4811 - accuracy: 0.8019\n",
            "Epoch 205/300\n",
            "22/22 [==============================] - 0s 2ms/step - loss: 0.4689 - accuracy: 0.7736\n",
            "Epoch 206/300\n",
            "22/22 [==============================] - 0s 2ms/step - loss: 0.4751 - accuracy: 0.8019\n",
            "Epoch 207/300\n",
            "22/22 [==============================] - 0s 2ms/step - loss: 0.4429 - accuracy: 0.8208\n",
            "Epoch 208/300\n",
            "22/22 [==============================] - 0s 2ms/step - loss: 0.4477 - accuracy: 0.7925\n",
            "Epoch 209/300\n",
            "22/22 [==============================] - 0s 2ms/step - loss: 0.4276 - accuracy: 0.8208\n",
            "Epoch 210/300\n",
            "22/22 [==============================] - 0s 2ms/step - loss: 0.4526 - accuracy: 0.7877\n",
            "Epoch 211/300\n",
            "22/22 [==============================] - 0s 2ms/step - loss: 0.4767 - accuracy: 0.8019\n",
            "Epoch 212/300\n",
            "22/22 [==============================] - 0s 2ms/step - loss: 0.4792 - accuracy: 0.8208\n",
            "Epoch 213/300\n",
            "22/22 [==============================] - 0s 2ms/step - loss: 0.4550 - accuracy: 0.7972\n",
            "Epoch 214/300\n",
            "22/22 [==============================] - 0s 2ms/step - loss: 0.4592 - accuracy: 0.8396\n",
            "Epoch 215/300\n",
            "22/22 [==============================] - 0s 2ms/step - loss: 0.4673 - accuracy: 0.7925\n",
            "Epoch 216/300\n",
            "22/22 [==============================] - 0s 2ms/step - loss: 0.4236 - accuracy: 0.8255\n",
            "Epoch 217/300\n",
            "22/22 [==============================] - 0s 2ms/step - loss: 0.4428 - accuracy: 0.8255\n",
            "Epoch 218/300\n",
            "22/22 [==============================] - 0s 2ms/step - loss: 0.4348 - accuracy: 0.8208\n",
            "Epoch 219/300\n",
            "22/22 [==============================] - 0s 2ms/step - loss: 0.4507 - accuracy: 0.7925\n",
            "Epoch 220/300\n",
            "22/22 [==============================] - 0s 2ms/step - loss: 0.4618 - accuracy: 0.7972\n",
            "Epoch 221/300\n",
            "22/22 [==============================] - 0s 2ms/step - loss: 0.4629 - accuracy: 0.8019\n",
            "Epoch 222/300\n",
            "22/22 [==============================] - 0s 1ms/step - loss: 0.4585 - accuracy: 0.7925\n",
            "Epoch 223/300\n",
            "22/22 [==============================] - 0s 2ms/step - loss: 0.4329 - accuracy: 0.8113\n",
            "Epoch 224/300\n",
            "22/22 [==============================] - 0s 2ms/step - loss: 0.5102 - accuracy: 0.7783\n",
            "Epoch 225/300\n",
            "22/22 [==============================] - 0s 2ms/step - loss: 0.4734 - accuracy: 0.7877\n",
            "Epoch 226/300\n",
            "22/22 [==============================] - 0s 2ms/step - loss: 0.4651 - accuracy: 0.7925\n",
            "Epoch 227/300\n",
            "22/22 [==============================] - 0s 2ms/step - loss: 0.4503 - accuracy: 0.8066\n",
            "Epoch 228/300\n",
            "22/22 [==============================] - 0s 2ms/step - loss: 0.4689 - accuracy: 0.8208\n",
            "Epoch 229/300\n",
            "22/22 [==============================] - 0s 2ms/step - loss: 0.4238 - accuracy: 0.8066\n",
            "Epoch 230/300\n",
            "22/22 [==============================] - 0s 2ms/step - loss: 0.4661 - accuracy: 0.8113\n",
            "Epoch 231/300\n",
            "22/22 [==============================] - 0s 2ms/step - loss: 0.4345 - accuracy: 0.8066\n",
            "Epoch 232/300\n",
            "22/22 [==============================] - 0s 2ms/step - loss: 0.4528 - accuracy: 0.8255\n",
            "Epoch 233/300\n",
            "22/22 [==============================] - 0s 2ms/step - loss: 0.4769 - accuracy: 0.8160\n",
            "Epoch 234/300\n",
            "22/22 [==============================] - 0s 2ms/step - loss: 0.4790 - accuracy: 0.7877\n",
            "Epoch 235/300\n",
            "22/22 [==============================] - 0s 2ms/step - loss: 0.4381 - accuracy: 0.7877\n",
            "Epoch 236/300\n",
            "22/22 [==============================] - 0s 2ms/step - loss: 0.4436 - accuracy: 0.8113\n",
            "Epoch 237/300\n",
            "22/22 [==============================] - 0s 2ms/step - loss: 0.4613 - accuracy: 0.8066\n",
            "Epoch 238/300\n",
            "22/22 [==============================] - 0s 2ms/step - loss: 0.4463 - accuracy: 0.7783\n",
            "Epoch 239/300\n",
            "22/22 [==============================] - 0s 2ms/step - loss: 0.4549 - accuracy: 0.8113\n",
            "Epoch 240/300\n",
            "22/22 [==============================] - 0s 2ms/step - loss: 0.4475 - accuracy: 0.8066\n",
            "Epoch 241/300\n",
            "22/22 [==============================] - 0s 2ms/step - loss: 0.4560 - accuracy: 0.7972\n",
            "Epoch 242/300\n",
            "22/22 [==============================] - 0s 2ms/step - loss: 0.4437 - accuracy: 0.8208\n",
            "Epoch 243/300\n",
            "22/22 [==============================] - 0s 2ms/step - loss: 0.4442 - accuracy: 0.8585\n",
            "Epoch 244/300\n",
            "22/22 [==============================] - 0s 2ms/step - loss: 0.4408 - accuracy: 0.8160\n",
            "Epoch 245/300\n",
            "22/22 [==============================] - 0s 2ms/step - loss: 0.4404 - accuracy: 0.8302\n",
            "Epoch 246/300\n",
            "22/22 [==============================] - 0s 2ms/step - loss: 0.4686 - accuracy: 0.8066\n",
            "Epoch 247/300\n",
            "22/22 [==============================] - 0s 2ms/step - loss: 0.4702 - accuracy: 0.8160\n",
            "Epoch 248/300\n",
            "22/22 [==============================] - 0s 2ms/step - loss: 0.4665 - accuracy: 0.7972\n",
            "Epoch 249/300\n",
            "22/22 [==============================] - 0s 2ms/step - loss: 0.4316 - accuracy: 0.8019\n",
            "Epoch 250/300\n",
            "22/22 [==============================] - 0s 2ms/step - loss: 0.4590 - accuracy: 0.7925\n",
            "Epoch 251/300\n",
            "22/22 [==============================] - 0s 2ms/step - loss: 0.4253 - accuracy: 0.8208\n",
            "Epoch 252/300\n",
            "22/22 [==============================] - 0s 2ms/step - loss: 0.4451 - accuracy: 0.8160\n",
            "Epoch 253/300\n",
            "22/22 [==============================] - 0s 2ms/step - loss: 0.4382 - accuracy: 0.8208\n",
            "Epoch 254/300\n",
            "22/22 [==============================] - 0s 2ms/step - loss: 0.4407 - accuracy: 0.8019\n",
            "Epoch 255/300\n",
            "22/22 [==============================] - 0s 2ms/step - loss: 0.4465 - accuracy: 0.8208\n",
            "Epoch 256/300\n",
            "22/22 [==============================] - 0s 2ms/step - loss: 0.4427 - accuracy: 0.8113\n",
            "Epoch 257/300\n",
            "22/22 [==============================] - 0s 2ms/step - loss: 0.4696 - accuracy: 0.8160\n",
            "Epoch 258/300\n",
            "22/22 [==============================] - 0s 2ms/step - loss: 0.4567 - accuracy: 0.7877\n",
            "Epoch 259/300\n",
            "22/22 [==============================] - 0s 3ms/step - loss: 0.4166 - accuracy: 0.8255\n",
            "Epoch 260/300\n",
            "22/22 [==============================] - 0s 2ms/step - loss: 0.4513 - accuracy: 0.8491\n",
            "Epoch 261/300\n",
            "22/22 [==============================] - 0s 2ms/step - loss: 0.4197 - accuracy: 0.8113\n",
            "Epoch 262/300\n",
            "22/22 [==============================] - 0s 2ms/step - loss: 0.4492 - accuracy: 0.7830\n",
            "Epoch 263/300\n",
            "22/22 [==============================] - 0s 2ms/step - loss: 0.4600 - accuracy: 0.7877\n",
            "Epoch 264/300\n",
            "22/22 [==============================] - 0s 2ms/step - loss: 0.4385 - accuracy: 0.8349\n",
            "Epoch 265/300\n",
            "22/22 [==============================] - 0s 2ms/step - loss: 0.4594 - accuracy: 0.8443\n",
            "Epoch 266/300\n",
            "22/22 [==============================] - 0s 2ms/step - loss: 0.4515 - accuracy: 0.8019\n",
            "Epoch 267/300\n",
            "22/22 [==============================] - 0s 2ms/step - loss: 0.4249 - accuracy: 0.8113\n",
            "Epoch 268/300\n",
            "22/22 [==============================] - 0s 2ms/step - loss: 0.4494 - accuracy: 0.8160\n",
            "Epoch 269/300\n",
            "22/22 [==============================] - 0s 2ms/step - loss: 0.4588 - accuracy: 0.8302\n",
            "Epoch 270/300\n",
            "22/22 [==============================] - 0s 2ms/step - loss: 0.4469 - accuracy: 0.8019\n",
            "Epoch 271/300\n",
            "22/22 [==============================] - 0s 2ms/step - loss: 0.4554 - accuracy: 0.7972\n",
            "Epoch 272/300\n",
            "22/22 [==============================] - 0s 2ms/step - loss: 0.4578 - accuracy: 0.7736\n",
            "Epoch 273/300\n",
            "22/22 [==============================] - 0s 2ms/step - loss: 0.4523 - accuracy: 0.7972\n",
            "Epoch 274/300\n",
            "22/22 [==============================] - 0s 2ms/step - loss: 0.5044 - accuracy: 0.7877\n",
            "Epoch 275/300\n",
            "22/22 [==============================] - 0s 2ms/step - loss: 0.4598 - accuracy: 0.8255\n",
            "Epoch 276/300\n",
            "22/22 [==============================] - 0s 2ms/step - loss: 0.4186 - accuracy: 0.8113\n",
            "Epoch 277/300\n",
            "22/22 [==============================] - 0s 2ms/step - loss: 0.3790 - accuracy: 0.8066\n",
            "Epoch 278/300\n",
            "22/22 [==============================] - 0s 2ms/step - loss: 0.5111 - accuracy: 0.7736\n",
            "Epoch 279/300\n",
            "22/22 [==============================] - 0s 2ms/step - loss: 0.4524 - accuracy: 0.7972\n",
            "Epoch 280/300\n",
            "22/22 [==============================] - 0s 2ms/step - loss: 0.4395 - accuracy: 0.8160\n",
            "Epoch 281/300\n",
            "22/22 [==============================] - 0s 2ms/step - loss: 0.4043 - accuracy: 0.8349\n",
            "Epoch 282/300\n",
            "22/22 [==============================] - 0s 2ms/step - loss: 0.4744 - accuracy: 0.7925\n",
            "Epoch 283/300\n",
            "22/22 [==============================] - 0s 2ms/step - loss: 0.4446 - accuracy: 0.8019\n",
            "Epoch 284/300\n",
            "22/22 [==============================] - 0s 2ms/step - loss: 0.4619 - accuracy: 0.8160\n",
            "Epoch 285/300\n",
            "22/22 [==============================] - 0s 2ms/step - loss: 0.4617 - accuracy: 0.8019\n",
            "Epoch 286/300\n",
            "22/22 [==============================] - 0s 2ms/step - loss: 0.4789 - accuracy: 0.7689\n",
            "Epoch 287/300\n",
            "22/22 [==============================] - 0s 2ms/step - loss: 0.4479 - accuracy: 0.8019\n",
            "Epoch 288/300\n",
            "22/22 [==============================] - 0s 2ms/step - loss: 0.4387 - accuracy: 0.8160\n",
            "Epoch 289/300\n",
            "22/22 [==============================] - 0s 2ms/step - loss: 0.4453 - accuracy: 0.8019\n",
            "Epoch 290/300\n",
            "22/22 [==============================] - 0s 2ms/step - loss: 0.4208 - accuracy: 0.8255\n",
            "Epoch 291/300\n",
            "22/22 [==============================] - 0s 2ms/step - loss: 0.4453 - accuracy: 0.8066\n",
            "Epoch 292/300\n",
            "22/22 [==============================] - 0s 2ms/step - loss: 0.4702 - accuracy: 0.7877\n",
            "Epoch 293/300\n",
            "22/22 [==============================] - 0s 2ms/step - loss: 0.4469 - accuracy: 0.8066\n",
            "Epoch 294/300\n",
            "22/22 [==============================] - 0s 2ms/step - loss: 0.4381 - accuracy: 0.8066\n",
            "Epoch 295/300\n",
            "22/22 [==============================] - 0s 2ms/step - loss: 0.4656 - accuracy: 0.8113\n",
            "Epoch 296/300\n",
            "22/22 [==============================] - 0s 2ms/step - loss: 0.4370 - accuracy: 0.7877\n",
            "Epoch 297/300\n",
            "22/22 [==============================] - 0s 2ms/step - loss: 0.4449 - accuracy: 0.8396\n",
            "Epoch 298/300\n",
            "22/22 [==============================] - 0s 2ms/step - loss: 0.4412 - accuracy: 0.7830\n",
            "Epoch 299/300\n",
            "22/22 [==============================] - 0s 2ms/step - loss: 0.4377 - accuracy: 0.7972\n",
            "Epoch 300/300\n",
            "22/22 [==============================] - 0s 2ms/step - loss: 0.4577 - accuracy: 0.8113\n"
          ]
        },
        {
          "output_type": "execute_result",
          "data": {
            "text/plain": [
              "<keras.callbacks.History at 0x7f1b4583be10>"
            ]
          },
          "metadata": {},
          "execution_count": 123
        }
      ]
    },
    {
      "cell_type": "code",
      "source": [
        "y_test_predictions_nn= model_nn.predict(x_test)"
      ],
      "metadata": {
        "id": "VWs25Xz-KXpC"
      },
      "execution_count": 129,
      "outputs": []
    },
    {
      "cell_type": "code",
      "source": [
        "metric = BinaryAccuracy(threshold = 0.5)\n",
        "metric.update_state(y_test,y_test_predictions_nn)\n",
        "nn_testing_acc= round(metric.result().numpy()*100)"
      ],
      "metadata": {
        "id": "FQRHzdwbRS9P"
      },
      "execution_count": 137,
      "outputs": []
    },
    {
      "cell_type": "code",
      "source": [
        "print(\"Accuracy using neural network is: \"+str(nn_testing_acc)+\" %\")"
      ],
      "metadata": {
        "colab": {
          "base_uri": "https://localhost:8080/"
        },
        "id": "F645OD5SSZVB",
        "outputId": "bde205ee-b875-44f4-f904-2ca860ae7361"
      },
      "execution_count": 136,
      "outputs": [
        {
          "output_type": "stream",
          "name": "stdout",
          "text": [
            "Accuracy using neural network is: 86 %\n"
          ]
        }
      ]
    },
    {
      "cell_type": "markdown",
      "source": [
        "### Decision Tree"
      ],
      "metadata": {
        "id": "lKFNACTiUtHA"
      }
    },
    {
      "cell_type": "code",
      "source": [
        "from sklearn.tree import DecisionTreeClassifier"
      ],
      "metadata": {
        "id": "IOWBNfhgUuqg"
      },
      "execution_count": 147,
      "outputs": []
    }
  ]
}